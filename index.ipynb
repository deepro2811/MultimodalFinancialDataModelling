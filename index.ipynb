{
 "cells": [
  {
   "cell_type": "code",
   "execution_count": 1,
   "id": "bfe023b7",
   "metadata": {},
   "outputs": [
    {
     "name": "stderr",
     "output_type": "stream",
     "text": [
      "/Users/deepro/Desktop/MSC Dissertation/MultimodalFinancialAnalysis/venv/lib/python3.9/site-packages/urllib3/__init__.py:35: NotOpenSSLWarning: urllib3 v2 only supports OpenSSL 1.1.1+, currently the 'ssl' module is compiled with 'LibreSSL 2.8.3'. See: https://github.com/urllib3/urllib3/issues/3020\n",
      "  warnings.warn(\n"
     ]
    }
   ],
   "source": [
    "import requests\n",
    "import pandas as pd\n",
    "import time\n",
    "import os\n",
    "\n",
    "class IndexConstituentsCollector:\n",
    "    \"\"\"Dynamically fetches current constituents of NSE indices\"\"\"\n",
    "    \n",
    "    def __init__(self, cache_dir=\"./data/index_data\"):\n",
    "        \"\"\"Initialize the index constituents collector\"\"\"\n",
    "        self.cache_dir = cache_dir\n",
    "        self.headers = {\n",
    "            'User-Agent': 'Mozilla/5.0 (Windows NT 10.0; Win64; x64) AppleWebKit/537.36'\n",
    "        }\n",
    "        os.makedirs(self.cache_dir, exist_ok=True)\n",
    "        \n",
    "    def get_nse_index_constituents(self, index_name):\n",
    "        \"\"\"Fetch index constituents from NSE website\"\"\"\n",
    "        # Format index name for URL\n",
    "        formatted_index = index_name.replace(' ', '%20')\n",
    "        url = f\"https://www.nseindia.com/api/equity-stockIndices?index={formatted_index}\"\n",
    "        \n",
    "        try:\n",
    "            session = requests.Session()\n",
    "            # First get cookies\n",
    "            session.get(\"https://www.nseindia.com/\", headers=self.headers)\n",
    "            time.sleep(1)\n",
    "            \n",
    "            # Get actual data\n",
    "            response = session.get(url, headers=self.headers)\n",
    "            \n",
    "            if response.status_code == 200:\n",
    "                data = response.json()\n",
    "                if 'data' in data:\n",
    "                    df = pd.DataFrame(data['data'])\n",
    "                    df['symbol_yf'] = df['symbol'] + '.NS'  # Add suffix for yfinance\n",
    "                    print(f\"Successfully fetched {len(df)} stocks for {index_name}\")\n",
    "                    return df\n",
    "                else:\n",
    "                    print(f\"No data found for {index_name}\")\n",
    "            else:\n",
    "                print(f\"Failed to fetch {index_name}: {response.status_code}\")\n",
    "                \n",
    "        except Exception as e:\n",
    "            print(f\"Error fetching {index_name}: {e}\")\n",
    "        \n",
    "        return pd.DataFrame()\n",
    "    \n",
    "    def get_all_indices(self):\n",
    "        \"\"\"Get constituents for all configured indices\"\"\"\n",
    "        indices = [\n",
    "            'NIFTY 50',         # Large cap\n",
    "            'NIFTY MIDCAP 150', # Mid cap\n",
    "            'NIFTY SMALLCAP 250', # Small cap\n",
    "            'NIFTY 100'         # Large cap expanded\n",
    "        ]\n",
    "        \n",
    "        all_constituents = {}\n",
    "        \n",
    "        for index_name in indices:\n",
    "            print(f\"Fetching {index_name}...\")\n",
    "            df = self.get_nse_index_constituents(index_name)\n",
    "            if not df.empty:\n",
    "                all_constituents[index_name] = df\n",
    "            time.sleep(2)  # Respect rate limits\n",
    "        \n",
    "        return all_constituents\n",
    "        \n",
    "    def get_all_unique_stocks(self):\n",
    "        \"\"\"Get a list of all unique stock symbols across all indices\"\"\"\n",
    "        all_constituents = self.get_all_indices()\n",
    "        all_stocks = set()\n",
    "        \n",
    "        for index_id, df in all_constituents.items():\n",
    "            if 'symbol_yf' in df.columns:\n",
    "                all_stocks.update(df['symbol_yf'].tolist())\n",
    "        \n",
    "        return list(all_stocks)"
   ]
  },
  {
   "cell_type": "code",
   "execution_count": null,
   "id": "be6796a3",
   "metadata": {},
   "outputs": [],
   "source": []
  }
 ],
 "metadata": {
  "kernelspec": {
   "display_name": "venv",
   "language": "python",
   "name": "python3"
  },
  "language_info": {
   "codemirror_mode": {
    "name": "ipython",
    "version": 3
   },
   "file_extension": ".py",
   "mimetype": "text/x-python",
   "name": "python",
   "nbconvert_exporter": "python",
   "pygments_lexer": "ipython3",
   "version": "3.9.6"
  }
 },
 "nbformat": 4,
 "nbformat_minor": 5
}
